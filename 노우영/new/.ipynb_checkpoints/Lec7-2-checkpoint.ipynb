{
 "cells": [
  {
   "cell_type": "markdown",
   "metadata": {},
   "source": [
    "# Lec7-2 영상\n",
    "epoch = 전체 한번\n",
    "\n",
    "batch_size 너무 크니까 잘라서 읽어옴\n",
    "\n",
    "　\n",
    "\n",
    "ex)\n",
    "epoch = 1000\n",
    "batch_size = 500\n",
    "iter = 2\n",
    "\n",
    "#eval==sess.run\n",
    "\n",
    "#one_hot : \n",
    "mnist.test.labels[r:r+1], 1 "
   ]
  },
  {
   "cell_type": "markdown",
   "metadata": {},
   "source": [
    "## imshow\n",
    "## epoch\n",
    "\n",
    "cmap: colormap / gray, rgb\n",
    "interpolation: 문자열"
   ]
  },
  {
   "cell_type": "code",
   "execution_count": 19,
   "metadata": {},
   "outputs": [
    {
     "name": "stdout",
     "output_type": "stream",
     "text": [
      "Extracting MINIST_data/train-images-idx3-ubyte.gz\n",
      "Extracting MINIST_data/train-labels-idx1-ubyte.gz\n",
      "Extracting MINIST_data/t10k-images-idx3-ubyte.gz\n",
      "Extracting MINIST_data/t10k-labels-idx1-ubyte.gz\n",
      "Epoch: 0001 Cost: 2.746319103\n",
      "Epoch: 0002 Cost: 1.126348902\n",
      "Epoch: 0003 Cost: 0.892640861\n",
      "Epoch: 0004 Cost: 0.778629850\n",
      "Epoch: 0005 Cost: 0.706995035\n",
      "Epoch: 0006 Cost: 0.655698290\n",
      "Epoch: 0007 Cost: 0.617634929\n",
      "Epoch: 0008 Cost: 0.587068440\n",
      "Epoch: 0009 Cost: 0.561290280\n",
      "Epoch: 0010 Cost: 0.540166647\n",
      "Epoch: 0011 Cost: 0.522181854\n",
      "Epoch: 0012 Cost: 0.506570771\n",
      "Epoch: 0013 Cost: 0.492254051\n",
      "Epoch: 0014 Cost: 0.480346807\n",
      "Epoch: 0015 Cost: 0.468815584\n",
      "학습종료\n",
      "Accuracy :  0.8906\n",
      "Label:  [2]\n",
      "Prediction:  [2]\n"
     ]
    },
    {
     "data": {
      "image/png": "[encoded data removed]",
      "text/plain": [
       "<Figure size 432x288 with 1 Axes>"
      ]
     },
     "metadata": {},
     "output_type": "display_data"
    }
   ],
   "source": [
    "import numpy as np\n",
    "import tensorflow as tf\n",
    "import random\n",
    "import matplotlib.pyplot as plt\n",
    "\n",
    "from tensorflow.examples.tutorials.mnist import input_data\n",
    "mnist = input_data.read_data_sets(\"MINIST_data/\", one_hot=True)\n",
    "\n",
    "nb_classes = 10\n",
    "\n",
    "# 28*28\n",
    "x = tf.placeholder(tf.float32, [None, 784])\n",
    "y = tf.placeholder(tf.float32, [None, nb_classes])\n",
    "\n",
    "w = tf.Variable(tf.random_normal([784, nb_classes]))\n",
    "b = tf.Variable(tf.random_normal([nb_classes]))\n",
    "\n",
    "hypothesis = tf.nn.softmax(tf.matmul(x, w) + b)\n",
    "\n",
    "cost = tf.reduce_mean(-tf.reduce_sum(y * tf.log(hypothesis), axis=1))\n",
    "optimizer = tf.train.GradientDescentOptimizer(learning_rate=0.1).minimize(cost)\n",
    "\n",
    "prediction = tf.arg_max(hypothesis, 1)\n",
    "is_correct = tf.equal(prediction, tf.arg_max(y, 1))\n",
    "accuracy = tf.reduce_mean(tf.cast(is_correct, tf.float32))\n",
    "\n",
    "\n",
    "#########epoch###########\n",
    "\n",
    "training_epochs = 15\n",
    "batch_size = 100\n",
    "total_batch = int(mnist.train.num_examples / batch_size)\n",
    "\n",
    "with tf.Session() as sess:\n",
    "    sess.run(tf.global_variables_initializer())\n",
    "    \n",
    "    for epoch in range(training_epochs):\n",
    "        avg_cost = 0\n",
    "        \n",
    "        for i in range(total_batch):\n",
    "            batch_xs, batch_ys = mnist.train.next_batch(batch_size)\n",
    "            c, _ = sess.run([cost, optimizer],\n",
    "                            feed_dict={x: batch_xs, y: batch_ys})\n",
    "            avg_cost += c / total_batch\n",
    "            \n",
    "        print('Epoch: %04d' % (epoch + 1),\n",
    "             'Cost: {:.9f}'.format(avg_cost))\n",
    "        \n",
    "    print(\"학습종료\")\n",
    "    \n",
    "    print(\"Accuracy : \", accuracy.eval(session=sess,\n",
    "                                       feed_dict={x: mnist.test.images,\n",
    "                                                 y: mnist.test.labels}))\n",
    "    \n",
    "    r = random.randint(0, mnist.test.num_examples - 1)\n",
    "    print(\"Label: \", sess.run(tf.argmax(mnist.test.labels[r:r+1], 1)))\n",
    "    print(\"Prediction: \", sess.run(tf.argmax(hypothesis, 1),\n",
    "                                   feed_dict={x:mnist.test.images[r:r+1]}))\n",
    "    \n",
    "    plt.imshow(mnist.test.images[r:r+1].reshape(28, 28),\n",
    "              cmap='Greys',\n",
    "              interpolation='nearest')\n",
    "    plt.show()"
   ]
  },
  {
   "cell_type": "markdown",
   "metadata": {},
   "source": []
  }
 ],
 "metadata": {
  "kernelspec": {
   "display_name": "Python [conda env:tensorflow]",
   "language": "python",
   "name": "conda-env-tensorflow-py"
  },
  "language_info": {
   "codemirror_mode": {
    "name": "ipython",
    "version": 3
   },
   "file_extension": ".py",
   "mimetype": "text/x-python",
   "name": "python",
   "nbconvert_exporter": "python",
   "pygments_lexer": "ipython3",
   "version": "3.6.5"
  }
 },
 "nbformat": 4,
 "nbformat_minor": 2
}
