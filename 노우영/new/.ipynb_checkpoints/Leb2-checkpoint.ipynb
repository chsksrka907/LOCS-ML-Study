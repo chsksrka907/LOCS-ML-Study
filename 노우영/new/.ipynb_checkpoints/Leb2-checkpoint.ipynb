{
 "cells": [
  {
   "cell_type": "markdown",
   "metadata": {},
   "source": [
    "# #Leb2\n"
   ]
  },
  {
   "cell_type": "code",
   "execution_count": 5,
   "metadata": {},
   "outputs": [
    {
     "name": "stdout",
     "output_type": "stream",
     "text": [
      "Tensor(\"Const_8:0\", shape=(), dtype=float32)\n",
      "Tensor(\"Const_9:0\", shape=(), dtype=float32)\n",
      "Tensor(\"Add_4:0\", shape=(), dtype=float32)\n"
     ]
    }
   ],
   "source": [
    "import tensorflow as tf\n",
    "\n",
    "node1 = tf.constant(3.0, tf.float32)\n",
    "node2 = tf.constant(4.0)\n",
    "node3 = tf.add(node1, node2)\n",
    "\n",
    "print(node1)\n",
    "print(node2)\n",
    "print(node3)"
   ]
  },
  {
   "cell_type": "code",
   "execution_count": 12,
   "metadata": {},
   "outputs": [
    {
     "name": "stdout",
     "output_type": "stream",
     "text": [
      "(3.0, 4.0, 7.0)\n"
     ]
    }
   ],
   "source": [
    "sess = tf.Session()\n",
    "print(sess.run((node1, node2, node3)))"
   ]
  },
  {
   "cell_type": "code",
   "execution_count": 14,
   "metadata": {},
   "outputs": [
    {
     "name": "stdout",
     "output_type": "stream",
     "text": [
      "sess.run(node1, node2) =  (3.0, 4.0)\n",
      "sess.run(node3) =  7.0\n"
     ]
    }
   ],
   "source": [
    "sess = tf.Session()\n",
    "print(\"sess.run(node1, node2) = \", sess.run((node1, node2)))\n",
    "print(\"sess.run(node3) = \", sess.run(node3))"
   ]
  },
  {
   "cell_type": "code",
   "execution_count": 17,
   "metadata": {},
   "outputs": [
    {
     "name": "stdout",
     "output_type": "stream",
     "text": [
      "7.5\n",
      "[3. 7.]\n"
     ]
    }
   ],
   "source": [
    "a = tf.placeholder(tf.float32)\n",
    "b = tf.placeholder(tf.float32)\n",
    "adder_node = a + b\n",
    "\n",
    "print(sess.run(adder_node, feed_dict = {a: 3, b:4.5}))\n",
    "print(sess.run(adder_node, feed_dict = {a:[1,3], b:[2,4]}))\n",
    "\n"
   ]
  },
  {
   "cell_type": "markdown",
   "metadata": {},
   "source": [
    "## #Run\n",
    "\n",
    "y = target"
   ]
  },
  {
   "cell_type": "code",
   "execution_count": 75,
   "metadata": {},
   "outputs": [],
   "source": [
    "\n",
    "x = [1, 2, 3]\n",
    "y = [1, 2, 3]\n",
    "y = [2, 4, 6]\n",
    "\n",
    "w = tf.Variable(tf.random_normal([1]), name='weight')\n",
    "b= tf.Variable(tf.random_normal([1]), name='bias')\n",
    "\n",
    "hypothesis = x * w + b\n"
   ]
  },
  {
   "cell_type": "code",
   "execution_count": 76,
   "metadata": {},
   "outputs": [],
   "source": [
    "cost = tf.reduce_mean(tf.square(hypothesis-y))"
   ]
  },
  {
   "cell_type": "code",
   "execution_count": 77,
   "metadata": {},
   "outputs": [],
   "source": [
    "#학습률\n",
    "optimizer = tf.train.GradientDescentOptimizer(learning_rate=0.01)\n",
    "train = optimizer.minimize(cost)"
   ]
  },
  {
   "cell_type": "code",
   "execution_count": 78,
   "metadata": {},
   "outputs": [
    {
     "name": "stdout",
     "output_type": "stream",
     "text": [
      "0 cost :  0.31338343 | weight :  [1.4282763] | bias :  [0.8344627]\n",
      "20 cost :  0.10963073 | weight :  [1.6022227] | bias :  [0.85994554]\n",
      "40 cost :  0.09798181 | weight :  [1.6349212] | bias :  [0.825692]\n",
      "60 cost :  0.08897426 | weight :  [1.6534122] | bias :  [0.7874741]\n",
      "80 cost :  0.08080768 | weight :  [1.6698276] | bias :  [0.75052154]\n",
      "100 cost :  0.073390864 | weight :  [1.6853565] | bias :  [0.7152551]\n",
      "120 cost :  0.06665481 | weight :  [1.7001446] | bias :  [0.68164116]\n",
      "140 cost :  0.060536902 | weight :  [1.714237] | bias :  [0.6496065]\n",
      "160 cost :  0.054980606 | weight :  [1.7276667] | bias :  [0.6190774]\n",
      "180 cost :  0.049934257 | weight :  [1.7404654] | bias :  [0.5899831]\n",
      "200 cost :  0.045351055 | weight :  [1.7526627] | bias :  [0.562256]\n",
      "220 cost :  0.041188575 | weight :  [1.7642866] | bias :  [0.535832]\n",
      "240 cost :  0.037408087 | weight :  [1.7753644] | bias :  [0.51064974]\n",
      "260 cost :  0.03397459 | weight :  [1.7859213] | bias :  [0.48665103]\n",
      "280 cost :  0.030856311 | weight :  [1.7959821] | bias :  [0.46378025]\n",
      "300 cost :  0.02802424 | weight :  [1.8055702] | bias :  [0.44198442]\n",
      "320 cost :  0.025452033 | weight :  [1.8147079] | bias :  [0.42121276]\n",
      "340 cost :  0.023115916 | weight :  [1.8234159] | bias :  [0.40141726]\n",
      "360 cost :  0.020994266 | weight :  [1.8317146] | bias :  [0.38255218]\n",
      "380 cost :  0.01906735 | weight :  [1.8396235] | bias :  [0.3645737]\n",
      "400 cost :  0.017317224 | weight :  [1.8471606] | bias :  [0.34744006]\n",
      "420 cost :  0.015727825 | weight :  [1.8543434] | bias :  [0.3311116]\n",
      "440 cost :  0.014284252 | weight :  [1.8611888] | bias :  [0.31555068]\n",
      "460 cost :  0.012973167 | weight :  [1.8677123] | bias :  [0.300721]\n",
      "480 cost :  0.011782485 | weight :  [1.8739294] | bias :  [0.28658828]\n",
      "500 cost :  0.010701034 | weight :  [1.8798542] | bias :  [0.27311966]\n",
      "520 cost :  0.0097188465 | weight :  [1.8855006] | bias :  [0.26028404]\n",
      "540 cost :  0.00882681 | weight :  [1.8908815] | bias :  [0.24805173]\n",
      "560 cost :  0.008016649 | weight :  [1.8960096] | bias :  [0.23639426]\n",
      "580 cost :  0.007280875 | weight :  [1.9008969] | bias :  [0.22528467]\n",
      "600 cost :  0.006612589 | weight :  [1.9055544] | bias :  [0.21469711]\n",
      "620 cost :  0.0060056676 | weight :  [1.9099929] | bias :  [0.20460711]\n",
      "640 cost :  0.0054544234 | weight :  [1.914223] | bias :  [0.19499137]\n",
      "660 cost :  0.0049538095 | weight :  [1.918254] | bias :  [0.18582748]\n",
      "680 cost :  0.0044991286 | weight :  [1.922096] | bias :  [0.17709425]\n",
      "700 cost :  0.0040861946 | weight :  [1.9257572] | bias :  [0.16877146]\n",
      "720 cost :  0.003711137 | weight :  [1.9292463] | bias :  [0.16083978]\n",
      "740 cost :  0.0033705079 | weight :  [1.9325715] | bias :  [0.15328088]\n",
      "760 cost :  0.003061169 | weight :  [1.9357402] | bias :  [0.1460773]\n",
      "780 cost :  0.002780185 | weight :  [1.9387603] | bias :  [0.13921225]\n",
      "800 cost :  0.0025250113 | weight :  [1.9416384] | bias :  [0.13266978]\n",
      "820 cost :  0.002293263 | weight :  [1.9443811] | bias :  [0.1264348]\n",
      "840 cost :  0.0020827584 | weight :  [1.946995] | bias :  [0.12049281]\n",
      "860 cost :  0.0018916138 | weight :  [1.9494861] | bias :  [0.11483006]\n",
      "880 cost :  0.001717981 | weight :  [1.9518601] | bias :  [0.10943344]\n",
      "900 cost :  0.0015602986 | weight :  [1.9541224] | bias :  [0.10429047]\n",
      "920 cost :  0.0014170929 | weight :  [1.9562784] | bias :  [0.09938921]\n",
      "940 cost :  0.001287022 | weight :  [1.9583331] | bias :  [0.09471834]\n",
      "960 cost :  0.0011689042 | weight :  [1.9602914] | bias :  [0.09026708]\n",
      "980 cost :  0.0010616205 | weight :  [1.9621576] | bias :  [0.08602484]\n",
      "1000 cost :  0.00096417166 | weight :  [1.963936] | bias :  [0.08198197]\n",
      "1020 cost :  0.0008756798 | weight :  [1.9656309] | bias :  [0.07812909]\n",
      "1040 cost :  0.00079531013 | weight :  [1.967246] | bias :  [0.0744573]\n",
      "1060 cost :  0.0007223039 | weight :  [1.9687854] | bias :  [0.07095809]\n",
      "1080 cost :  0.00065601594 | weight :  [1.9702524] | bias :  [0.06762335]\n",
      "1100 cost :  0.0005957962 | weight :  [1.9716504] | bias :  [0.06444529]\n",
      "1120 cost :  0.0005411208 | weight :  [1.9729825] | bias :  [0.06141665]\n",
      "1140 cost :  0.0004914549 | weight :  [1.9742523] | bias :  [0.05853036]\n",
      "1160 cost :  0.00044634767 | weight :  [1.9754624] | bias :  [0.05577964]\n",
      "1180 cost :  0.00040538123 | weight :  [1.9766157] | bias :  [0.0531582]\n",
      "1200 cost :  0.00036816788 | weight :  [1.9777147] | bias :  [0.05065994]\n",
      "1220 cost :  0.00033437661 | weight :  [1.9787618] | bias :  [0.04827914]\n",
      "1240 cost :  0.00030369175 | weight :  [1.9797596] | bias :  [0.04601041]\n",
      "1260 cost :  0.0002758193 | weight :  [1.9807113] | bias :  [0.04384818]\n",
      "1280 cost :  0.00025050188 | weight :  [1.9816178] | bias :  [0.04178738]\n",
      "1300 cost :  0.0002275055 | weight :  [1.9824816] | bias :  [0.03982344]\n",
      "1320 cost :  0.00020662583 | weight :  [1.9833049] | bias :  [0.03795191]\n",
      "1340 cost :  0.00018766134 | weight :  [1.9840895] | bias :  [0.03616831]\n",
      "1360 cost :  0.00017043995 | weight :  [1.9848373] | bias :  [0.03446854]\n",
      "1380 cost :  0.00015479437 | weight :  [1.9855498] | bias :  [0.03284863]\n",
      "1400 cost :  0.00014058927 | weight :  [1.9862288] | bias :  [0.03130488]\n",
      "1420 cost :  0.00012768111 | weight :  [1.9868761] | bias :  [0.02983371]\n",
      "1440 cost :  0.00011596378 | weight :  [1.9874928] | bias :  [0.02843164]\n",
      "1460 cost :  0.00010532234 | weight :  [1.9880805] | bias :  [0.0270955]\n",
      "1480 cost :  9.565434e-05 | weight :  [1.9886408] | bias :  [0.02582216]\n",
      "1500 cost :  8.6876076e-05 | weight :  [1.9891746] | bias :  [0.0246086]\n",
      "1520 cost :  7.889879e-05 | weight :  [1.9896834] | bias :  [0.02345208]\n",
      "1540 cost :  7.165953e-05 | weight :  [1.9901683] | bias :  [0.02234988]\n",
      "1560 cost :  6.5081804e-05 | weight :  [1.9906303] | bias :  [0.02129952]\n",
      "1580 cost :  5.910991e-05 | weight :  [1.9910706] | bias :  [0.02029851]\n",
      "1600 cost :  5.3683547e-05 | weight :  [1.9914902] | bias :  [0.01934459]\n",
      "1620 cost :  4.87551e-05 | weight :  [1.9918902] | bias :  [0.01843546]\n",
      "1640 cost :  4.4280318e-05 | weight :  [1.9922713] | bias :  [0.01756906]\n",
      "1660 cost :  4.0218223e-05 | weight :  [1.9926345] | bias :  [0.01674338]\n",
      "1680 cost :  3.652579e-05 | weight :  [1.9929807] | bias :  [0.01595652]\n",
      "1700 cost :  3.3172957e-05 | weight :  [1.9933107] | bias :  [0.01520658]\n",
      "1720 cost :  3.0127814e-05 | weight :  [1.993625] | bias :  [0.01449191]\n",
      "1740 cost :  2.7363247e-05 | weight :  [1.9939246] | bias :  [0.0138108]\n",
      "1760 cost :  2.4852045e-05 | weight :  [1.9942101] | bias :  [0.01316172]\n",
      "1780 cost :  2.2569531e-05 | weight :  [1.9944823] | bias :  [0.01254317]\n",
      "1800 cost :  2.0497893e-05 | weight :  [1.9947416] | bias :  [0.0119537]\n",
      "1820 cost :  1.8616092e-05 | weight :  [1.9949887] | bias :  [0.01139191]\n",
      "1840 cost :  1.6908014e-05 | weight :  [1.9952242] | bias :  [0.01085651]\n",
      "1860 cost :  1.5356745e-05 | weight :  [1.9954486] | bias :  [0.0103463]\n",
      "1880 cost :  1.3947724e-05 | weight :  [1.9956626] | bias :  [0.00986008]\n",
      "1900 cost :  1.2666879e-05 | weight :  [1.9958664] | bias :  [0.00939671]\n",
      "1920 cost :  1.1504458e-05 | weight :  [1.9960606] | bias :  [0.00895513]\n",
      "1940 cost :  1.0448479e-05 | weight :  [1.9962456] | bias :  [0.00853434]\n",
      "1960 cost :  9.488873e-06 | weight :  [1.996422] | bias :  [0.00813329]\n",
      "1980 cost :  8.61889e-06 | weight :  [1.9965903] | bias :  [0.0077511]\n",
      "2000 cost :  7.827787e-06 | weight :  [1.9967505] | bias :  [0.00738684]\n"
     ]
    }
   ],
   "source": [
    "sess = tf.Session()\n",
    "sess.run(tf.global_variables_initializer())\n",
    "\n",
    "for step in range(2001):\n",
    "    sess.run(train)\n",
    "    if(step % 20 == 0):\n",
    "        print(step, 'cost : ', sess.run(cost),\n",
    "              '| weight : ', sess.run(w),\n",
    "              '| bias : ', sess.run(b))\n",
    "        \n",
    "# if(y = [1, 2, 3])    \n",
    "#hypothesis -y \n",
    "\n",
    "# weight 1\n",
    "# bias 0\n",
    "# cost 0\n",
    "\n",
    "\n",
    "# if(y = [2, 4, 6])\n",
    "##hypothesis - y\n",
    "\n",
    "# weight 2\n",
    "# bias 0\n",
    "# cost 0\n"
   ]
  },
  {
   "cell_type": "code",
   "execution_count": 90,
   "metadata": {},
   "outputs": [
    {
     "name": "stdout",
     "output_type": "stream",
     "text": [
      "0 cost:  2.6439016 , weight:  [1.0930252] , bias:  [-0.47930402]\n",
      "200 cost:  0.10507731 , weight:  [1.2097402] , bias:  [0.3427711]\n",
      "400 cost:  0.027113188 , weight:  [1.1065412] , bias:  [0.7153524]\n",
      "600 cost:  0.006996053 , weight:  [1.0541195] , bias:  [0.9046115]\n",
      "800 cost:  0.001805193 , weight:  [1.027491] , bias:  [1.000749]\n",
      "1000 cost:  0.00046580555 , weight:  [1.0139647] , bias:  [1.0495832]\n",
      "1200 cost:  0.00012019727 , weight:  [1.0070935] , bias:  [1.0743895]\n",
      "1400 cost:  3.1013617e-05 , weight:  [1.0036033] , bias:  [1.0869906]\n",
      "1600 cost:  8.0027585e-06 , weight:  [1.0018305] , bias:  [1.0933915]\n",
      "1800 cost:  2.0653104e-06 , weight:  [1.0009298] , bias:  [1.0966429]\n",
      "2000 cost:  5.3320036e-07 , weight:  [1.0004725] , bias:  [1.098294]\n",
      "******************************\n",
      "[6.1006565]\n",
      "[3.5994754]\n",
      "[2.5990028 4.599948 ]\n"
     ]
    }
   ],
   "source": [
    "tf.reset_default_graph()\n",
    "\n",
    "x = tf.placeholder(tf.float32, shape = [None])\n",
    "y = tf.placeholder(tf.float32, shape = [None])\n",
    "\n",
    "w = tf.Variable(tf.random_normal([1]), name=\"weight\")\n",
    "b = tf.Variable(tf.random_normal([1]), name=\"bias\")\n",
    "\n",
    "hypothesis = x * w + b\n",
    "\n",
    "cost = tf.reduce_mean(tf.square(hypothesis - y))\n",
    "\n",
    "optimizer = tf.train.GradientDescentOptimizer(learning_rate=0.01)\n",
    "train = optimizer.minimize(cost)\n",
    "\n",
    "sess = tf.Session()\n",
    "sess.run(tf.global_variables_initializer())\n",
    "\n",
    "\n",
    "\n",
    "for step in range(2001):\n",
    "    cost_val, w_val, b_val, _ = sess.run([cost, w, b, train],\n",
    "                                        feed_dict = {x: [1,2,3,4,5],\n",
    "                                                    y:[2.1, 3.1, 4.1, 5.1, 6.1]})\n",
    "#sess.run 해줘서 다시 run할 필요 x    \n",
    "    if step % 200 == 0:\n",
    "        print(step,\n",
    "              'cost: ', cost_val,\n",
    "              ', weight: ', w_val,\n",
    "              ', bias: ', b_val)\n",
    "\n",
    "         \n",
    "# weight 1\n",
    "# bias 1.1\n",
    "# cost 0\n",
    "\n",
    "#train run 해주고 넣어야함\n",
    "print('*'*30)\n",
    "print(sess.run(hypothesis, feed_dict = {x:[5]}))\n",
    "print(sess.run(hypothesis, feed_dict = {x:[2.5]}))\n",
    "print(sess.run(hypothesis, feed_dict = {x:[1.5, 3.5]}))"
   ]
  },
  {
   "cell_type": "code",
   "execution_count": 92,
   "metadata": {},
   "outputs": [
    {
     "name": "stdout",
     "output_type": "stream",
     "text": [
      "0 cost:  4.1892653 , weight:  [1.1727227] , bias:  [-1.0607727]\n",
      "200 cost:  0.19895749 , weight:  [1.2886074] , bias:  [0.05803581]\n",
      "400 cost:  0.05133716 , weight:  [1.1466031] , bias:  [0.5707162]\n",
      "600 cost:  0.013246587 , weight:  [1.0744697] , bias:  [0.8311408]\n",
      "800 cost:  0.0034180242 , weight:  [1.0378282] , bias:  [0.96342826]\n",
      "1000 cost:  0.0008819572 , weight:  [1.0192155] , bias:  [1.0306257]\n",
      "1200 cost:  0.00022758152 , weight:  [1.0097609] , bias:  [1.0647596]\n",
      "1400 cost:  5.8726815e-05 , weight:  [1.0049584] , bias:  [1.0820984]\n",
      "1600 cost:  1.5153933e-05 , weight:  [1.0025188] , bias:  [1.0909064]\n",
      "1800 cost:  3.9095953e-06 , weight:  [1.0012795] , bias:  [1.0953808]\n",
      "2000 cost:  1.0090096e-06 , weight:  [1.0006499] , bias:  [1.0976534]\n"
     ]
    },
    {
     "data": {
      "image/png": "[encoded data removed]",
      "text/plain": [
       "<Figure size 432x288 with 1 Axes>"
      ]
     },
     "metadata": {},
     "output_type": "display_data"
    }
   ],
   "source": [
    "tf.reset_default_graph()\n",
    "\n",
    "import matplotlib.pyplot as plt\n",
    "\n",
    "x = tf.placeholder(tf.float32, shape = [None])\n",
    "y = tf.placeholder(tf.float32, shape = [None])\n",
    "\n",
    "w = tf.Variable(tf.random_normal([1]), name=\"weight\")\n",
    "b = tf.Variable(tf.random_normal([1]), name=\"bias\")\n",
    "\n",
    "hypothesis = x * w + b\n",
    "\n",
    "cost = tf.reduce_mean(tf.square(hypothesis - y))\n",
    "\n",
    "optimizer = tf.train.GradientDescentOptimizer(learning_rate=0.01)\n",
    "train = optimizer.minimize(cost)\n",
    "\n",
    "sess = tf.Session()\n",
    "sess.run(tf.global_variables_initializer())\n",
    "\n",
    "\n",
    "\n",
    "for step in range(2001):\n",
    "    cost_val, w_val, b_val, _ = sess.run([cost, w, b, train],\n",
    "                                        feed_dict = {x: [1,2,3,4,5],\n",
    "                                                    y:[2.1, 3.1, 4.1, 5.1, 6.1]})\n",
    "#sess.run 해줘서 다시 run할 필요 x    \n",
    "    if step % 200 == 0:\n",
    "        print(step,\n",
    "              'cost: ', cost_val,\n",
    "              ', weight: ', w_val,\n",
    "              ', bias: ', b_val)\n",
    "\n",
    "         \n",
    "# weight 1\n",
    "# bias 1.1\n",
    "# cost 0\n",
    "\n",
    "\n",
    "plt.plot(wArray, costArray)\n",
    "plt.grid()\n",
    "plt.xlabel('w_val')\n",
    "plt.ylabel('cost_val')\n",
    "plt.show()\n",
    "    "
   ]
  }
 ],
 "metadata": {
  "kernelspec": {
   "display_name": "Python [conda env:tensorflow]",
   "language": "python",
   "name": "conda-env-tensorflow-py"
  },
  "language_info": {
   "codemirror_mode": {
    "name": "ipython",
    "version": 3
   },
   "file_extension": ".py",
   "mimetype": "text/x-python",
   "name": "python",
   "nbconvert_exporter": "python",
   "pygments_lexer": "ipython3",
   "version": "3.6.5"
  }
 },
 "nbformat": 4,
 "nbformat_minor": 2
}
