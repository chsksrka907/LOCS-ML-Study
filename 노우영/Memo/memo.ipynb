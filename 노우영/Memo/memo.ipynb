{
 "cells": [
  {
   "cell_type": "code",
   "execution_count": 4,
   "metadata": {},
   "outputs": [
    {
     "name": "stdout",
     "output_type": "stream",
     "text": [
      "b'hello'\n"
     ]
    }
   ],
   "source": [
    "import tensorflow as tf\n",
    "hello = tf.constant(\"hello\")\n",
    "sess = tf.Session()\n",
    "print(sess.run(hello))\n"
   ]
  },
  {
   "cell_type": "code",
   "execution_count": 10,
   "metadata": {},
   "outputs": [
    {
     "data": {
      "text/plain": [
       "True"
      ]
     },
     "execution_count": 10,
     "metadata": {},
     "output_type": "execute_result"
    }
   ],
   "source": [
    "round(0.1 + 0.2, 5) == round(0.3, 5)"
   ]
  },
  {
   "cell_type": "code",
   "execution_count": 17,
   "metadata": {},
   "outputs": [
    {
     "name": "stdout",
     "output_type": "stream",
     "text": [
      "**********\n",
      "\n",
      "\n",
      "**********\n"
     ]
    }
   ],
   "source": [
    "print('*' * 10)\n",
    "print('\\n')\n",
    "print('*' * 10)"
   ]
  },
  {
   "cell_type": "code",
   "execution_count": 20,
   "metadata": {
    "scrolled": true
   },
   "outputs": [
    {
     "name": "stdout",
     "output_type": "stream",
     "text": [
      "집에 있지만 집에 가고싶다.\n"
     ]
    }
   ],
   "source": [
    "print('집에 있지만', end=' ')\n",
    "print('집에 가고싶다.')"
   ]
  },
  {
   "cell_type": "code",
   "execution_count": null,
   "metadata": {},
   "outputs": [],
   "source": [
    "mark = '*'\n",
    "n = 10\n",
    "print(mark + ' 기호를 ' + str(n) + '번 출력')\n",
    "print(mark * n)"
   ]
  },
  {
   "cell_type": "code",
   "execution_count": 45,
   "metadata": {},
   "outputs": [
    {
     "name": "stdout",
     "output_type": "stream",
     "text": [
      "beautiful is better than ugly\n",
      "*****\n",
      "i am 12 years old 3\n",
      "0.333\n",
      "         3\n",
      "x       12\n",
      "----------\n",
      "        36\n"
     ]
    }
   ],
   "source": [
    "sen = ' is better than '\n",
    "print('beautiful' + sen + 'ugly')\n",
    "\n",
    "mark = '*'\n",
    "print('*'*5)\n",
    "\n",
    "print('i am %d years old %d' %(12, 3))\n",
    "\n",
    "x = 1 / 3.0\n",
    "print('%.3lf' %x)\n",
    "\n",
    "\n",
    "\"{}'s score is{}\".format('Jame', 100)\n",
    "\n",
    "\n",
    "a = 3\n",
    "b = 12\n",
    "\n",
    "print('%10d' %a)\n",
    "print('x%9d' %b)\n",
    "print('-'*10)\n",
    "print('%10d' %(a*b))\n",
    "\n"
   ]
  },
  {
   "cell_type": "code",
   "execution_count": 55,
   "metadata": {},
   "outputs": [
    {
     "name": "stdout",
     "output_type": "stream",
     "text": [
      "배가고프다\n"
     ]
    }
   ],
   "source": [
    "x = 10\n",
    "\n",
    "if(x > 9) & (x<11):\n",
    "    print('배가고프다')\n",
    "else:\n",
    "    print('진짜다')"
   ]
  },
  {
   "cell_type": "code",
   "execution_count": 65,
   "metadata": {},
   "outputs": [
    {
     "name": "stdout",
     "output_type": "stream",
     "text": [
      "윤년도 평년도 아닙니다.\n"
     ]
    }
   ],
   "source": [
    "y = 1601\n",
    "\n",
    "if (y%100 == 0) & (y%400 != 0):\n",
    "    print('평년입니다.')\n",
    "elif (y%4 == 0):\n",
    "    print('윤년 입니다.')\n",
    "else:\n",
    "    print('윤년도 평년도 아닙니다.')"
   ]
  },
  {
   "cell_type": "code",
   "execution_count": 70,
   "metadata": {},
   "outputs": [
    {
     "data": {
      "text/plain": [
       "20"
      ]
     },
     "execution_count": 70,
     "metadata": {},
     "output_type": "execute_result"
    }
   ],
   "source": [
    "def multwo(x):\n",
    "    y = 2*x\n",
    "    return y\n",
    "\n",
    "multwo(10)"
   ]
  },
  {
   "cell_type": "code",
   "execution_count": 82,
   "metadata": {},
   "outputs": [
    {
     "name": "stdout",
     "output_type": "stream",
     "text": [
      "else\n",
      "4\n"
     ]
    }
   ],
   "source": [
    "def EvenOdd(num):\n",
    "    if num>0:\n",
    "        if num % 2 == 0:\n",
    "            return \"Even\"\n",
    "        else:\n",
    "            return \"Odd\"\n",
    "    else:\n",
    "        return \"else\"\n",
    "print(EvenOdd(-2))\n",
    "\n",
    "def f(x):\n",
    "    return 2*x\n",
    "\n",
    "f = lambda x: 2*x\n",
    "    \n",
    "print(f(2))\n"
   ]
  },
  {
   "cell_type": "code",
   "execution_count": 100,
   "metadata": {},
   "outputs": [
    {
     "name": "stdout",
     "output_type": "stream",
     "text": [
      "y = 100\n",
      "999\n"
     ]
    }
   ],
   "source": [
    "\n",
    "def f(x):\n",
    "    y = 10*x\n",
    "    print(\"y = %d\" %y)\n",
    "    y\n",
    "    return y\n",
    "\n",
    "f(10)\n",
    "\n",
    "y = 999\n",
    "\n",
    "print(y)"
   ]
  },
  {
   "cell_type": "code",
   "execution_count": 337,
   "metadata": {},
   "outputs": [
    {
     "data": {
      "text/plain": [
       "3"
      ]
     },
     "execution_count": 337,
     "metadata": {},
     "output_type": "execute_result"
    }
   ],
   "source": [
    "\n",
    "\n",
    "\"\"\"\n",
    "print(f(10))\n",
    "print(z)\n",
    "\"\"\"\n",
    "z = 1\n",
    "\n",
    "def f(x):\n",
    "    global z #this\n",
    "    z = 3\n",
    "    return z\n",
    "    \n",
    "    \n",
    "f(z)\n",
    "z"
   ]
  },
  {
   "cell_type": "code",
   "execution_count": 123,
   "metadata": {},
   "outputs": [
    {
     "name": "stdout",
     "output_type": "stream",
     "text": [
      "\n",
      "*\n",
      "**\n",
      "***\n",
      "****\n",
      "*****\n",
      "******\n",
      "*******\n",
      "********\n",
      "*********\n"
     ]
    }
   ],
   "source": [
    "for i in range(10):\n",
    "    for j in range(i):\n",
    "        print('*', end='')\n",
    "    print('')\n",
    "    \n",
    "    \n",
    "        "
   ]
  },
  {
   "cell_type": "code",
   "execution_count": 125,
   "metadata": {
    "scrolled": false
   },
   "outputs": [
    {
     "name": "stdout",
     "output_type": "stream",
     "text": [
      "0123\n",
      "1234\n",
      "2345\n",
      "3456\n"
     ]
    }
   ],
   "source": [
    "for i in range(4):\n",
    "    for j in range(4):\n",
    "        print(i+j, end='')\n",
    "    print()"
   ]
  },
  {
   "cell_type": "code",
   "execution_count": 214,
   "metadata": {},
   "outputs": [
    {
     "data": {
      "text/plain": [
       "1"
      ]
     },
     "execution_count": 214,
     "metadata": {},
     "output_type": "execute_result"
    }
   ],
   "source": [
    "x = [1, 2, 3]\n",
    "y = {'a':1, 'b':2, 'c':3}\n",
    "y['a']"
   ]
  },
  {
   "cell_type": "code",
   "execution_count": 218,
   "metadata": {},
   "outputs": [
    {
     "data": {
      "text/plain": [
       "'pi'"
      ]
     },
     "execution_count": 218,
     "metadata": {},
     "output_type": "execute_result"
    }
   ],
   "source": [
    "d = [1, 3.14, \"pi\"]\n",
    "d[2]"
   ]
  },
  {
   "cell_type": "code",
   "execution_count": 246,
   "metadata": {},
   "outputs": [
    {
     "name": "stdout",
     "output_type": "stream",
     "text": [
      "[0, 1, 2, 3, 4, 5, 6, 7, 8, 9, 10, 11, 12, 13, 14, 15, 16, 17, 18, 19]\n"
     ]
    },
    {
     "data": {
      "text/plain": [
       "19"
      ]
     },
     "execution_count": 246,
     "metadata": {},
     "output_type": "execute_result"
    }
   ],
   "source": [
    "e = [[1, 10], [2, 20, 3], [1]]\n",
    "\n",
    "len(e) #ROW\n",
    "\n",
    "b = list(range(10))\n",
    "b = list(range(1, 10))\n",
    "b\n",
    "\n",
    "b[0] = 100\n",
    "b\n",
    "b.append(900) #add\n",
    "b\n",
    "\n",
    "del b[len(b)-1]\n",
    "b\n",
    "\n",
    "g = list(range(20))\n",
    "print(g)\n",
    "g[-1]\n"
   ]
  },
  {
   "cell_type": "code",
   "execution_count": 267,
   "metadata": {},
   "outputs": [
    {
     "name": "stdout",
     "output_type": "stream",
     "text": [
      "[1, 2, 4, 5, 6, 7, 8, 9, 10, 11]\n"
     ]
    },
    {
     "data": {
      "text/plain": [
       "'123456'"
      ]
     },
     "execution_count": 267,
     "metadata": {},
     "output_type": "execute_result"
    }
   ],
   "source": [
    "g = list(range(1, 11))\n",
    "g.append(11)\n",
    "del g[2]\n",
    "print(g)\n",
    "g = g[4:9]\n",
    "g\n",
    "\n",
    "g = '999999-1234567'\n",
    "g[7:13]\n"
   ]
  },
  {
   "cell_type": "code",
   "execution_count": 292,
   "metadata": {},
   "outputs": [
    {
     "name": "stdout",
     "output_type": "stream",
     "text": [
      "0 a\n",
      "1 b\n",
      "2 c\n"
     ]
    },
    {
     "data": {
      "text/plain": [
       "52.7"
      ]
     },
     "execution_count": 292,
     "metadata": {},
     "output_type": "execute_result"
    }
   ],
   "source": [
    "a1 = list(range(1, 4))\n",
    "a2 = list(range(10, 40, 10))\n",
    "a3 = list(range(100, 400, 50))\n",
    "list(zip(a1, a2, a3)) #Point(,)?\n",
    "\n",
    "s=[]\n",
    "for x, y in zip(a1, a2):\n",
    "    s.append(x+y)\n",
    "s\n",
    "\n",
    "for i, e in enumerate(['a', 'b', 'c']):\n",
    "    print(i, e)\n",
    "    \n",
    "\n",
    "########################################################\n",
    "for i, (x, y) in enumerate(zip(a1, a2)):\n",
    "    s[i] = x+y\n",
    "s\n",
    "\n",
    "\n",
    "x = [[ 85,  90,  20,  50,  60,  25,  30,  75,  40,  55],\n",
    "     [ 70, 100,  70,  70,  55,  75,  55,  60,  40,  45],\n",
    "     [ 25,  65,  15,  25,  20,   5,  60,  70,  35,  10],\n",
    "     [ 80,  45,  80,  40,  75,  35,  80,  55,  70,  90],\n",
    "     [ 35,  50,  75,  25,  35,  70,  65,  50,  70,  10]]\n",
    "\n",
    "\n",
    "sum = 0\n",
    "count = 0\n",
    "for i in range(len(x)): #ROW LENGTH(0)\n",
    "    for j in range(len(x[i])): #COL LENGTH(1)\n",
    "            sum = sum + x[i][j]\n",
    "            count = count+1\n",
    "sum = sum / count\n",
    "sum"
   ]
  },
  {
   "cell_type": "code",
   "execution_count": 299,
   "metadata": {},
   "outputs": [
    {
     "data": {
      "text/plain": [
       "3.3636363636363638"
      ]
     },
     "execution_count": 299,
     "metadata": {},
     "output_type": "execute_result"
    }
   ],
   "source": [
    "x = [4, 3, 2, 3, 4]\n",
    "w = [3, 3, 1, 2, 2]\n",
    "\n",
    "sum = 0\n",
    "wsum = 0\n",
    "\n",
    "for i in range(len(x)):\n",
    "    sum = sum + w[i]*x[i]\n",
    "    wsum = wsum + w[i]\n",
    "\n",
    "sum = sum/wsum\n",
    "sum\n",
    "\n",
    "    "
   ]
  },
  {
   "cell_type": "code",
   "execution_count": 302,
   "metadata": {},
   "outputs": [
    {
     "data": {
      "text/plain": [
       "1024"
      ]
     },
     "execution_count": 302,
     "metadata": {},
     "output_type": "execute_result"
    }
   ],
   "source": [
    "a = 2**10\n",
    "a\n",
    "\n"
   ]
  },
  {
   "cell_type": "code",
   "execution_count": 351,
   "metadata": {},
   "outputs": [
    {
     "name": "stdout",
     "output_type": "stream",
     "text": [
      "200\n",
      "200\n",
      "20\n"
     ]
    }
   ],
   "source": [
    "\"\"\"\n",
    "h = 10\n",
    "v = 20\n",
    "\n",
    "def area(h, v):\n",
    "    return h*v\n",
    "\n",
    "a = area(h, v)\n",
    "print(a)\n",
    "\"\"\"\n",
    "\n",
    "#얘가 this\n",
    "\n",
    "class Rectangle(object):\n",
    "    def __init__(self, h, v):\n",
    "        self.h = h\n",
    "        self.v = v\n",
    "    \n",
    "    def area(self):\n",
    "        return self.h * self.v\n",
    "    \n",
    "    \n",
    "class Tri(object):\n",
    "    def __init__(self, b, h): # Tri()일때는 인자 self만\n",
    "        self.b = b\n",
    "        self.h = h\n",
    "        \n",
    "    def area(self):\n",
    "        return (self.b*self.h)/2\n",
    "    \n",
    "    def f(self):\n",
    "        return self.h\n",
    "\n",
    "r = Rectangle(10, 20)\n",
    "a = r.area()\n",
    "print(a)\n",
    "print(r.area())\n",
    "\n",
    "#a = Rectangle(1, 1)\n",
    "#b = Rectangle(2, 2)\n",
    "\n",
    "#print(a.area())\n",
    "\n",
    "t1 = Tri(10, 20)\n",
    "\n",
    "print(t1.f())\n",
    "\n",
    "\n",
    "\n",
    "\n",
    "\n"
   ]
  },
  {
   "cell_type": "code",
   "execution_count": 378,
   "metadata": {},
   "outputs": [
    {
     "name": "stdout",
     "output_type": "stream",
     "text": [
      "1\n",
      "2\n",
      "Warrior공격받음 Hp 500\n",
      "Wizard공격받음 Hp 900\n"
     ]
    },
    {
     "data": {
      "text/plain": [
       "'[for str] Complex: real=1.000000, imag=2.000000'"
      ]
     },
     "execution_count": 378,
     "metadata": {},
     "output_type": "execute_result"
    }
   ],
   "source": [
    "\n",
    "\n",
    "class Character(object):\n",
    "    def __init__(self):\n",
    "        self.life = 1000\n",
    "    def attacked(self):\n",
    "        self.life -=100\n",
    "        print('공격받음 Hp', self.life)\n",
    "    def attack(self):\n",
    "        print('hit')\n",
    "\n",
    "class Warrior(Character):\n",
    "    def __init__(self):\n",
    "        super(Warrior, self).__init__()\n",
    "        self.strength = 15\n",
    "        self.intelligence = 5\n",
    "\n",
    "    def attack(self):\n",
    "            print(\"1\")\n",
    "    def attacked(self):\n",
    "            self.life -= 500\n",
    "            print('Warrior공격받음 Hp', self.life)\n",
    "                \n",
    "class Wizard(Character):\n",
    "    def __init__(self):\n",
    "        super(Wizard, self).__init__()\n",
    "        self.strength = 5\n",
    "        self.intelligence = 15\n",
    "    \n",
    "    def attack(self):\n",
    "        print(\"2\")\n",
    "    def attacked(self):        \n",
    "        self.life -= 100\n",
    "        print('Wizard공격받음 Hp', self.life)\n",
    "            \n",
    "         \n",
    "a = Warrior()\n",
    "b = Wizard()\n",
    "c = Character()\n",
    "\n",
    "a.attack()\n",
    "b.attack()\n",
    "\n",
    "a.attacked()\n",
    "b.attacked()\n",
    "\n",
    "\n",
    "class Complex(object):\n",
    "    def __init__(self, real, imag):\n",
    "        self.r = real\n",
    "        self.i = imag\n",
    "\n",
    "class Complex2(Complex):\n",
    "    def __repr__(self):\n",
    "        return \"Complex: real=%f, imag=%f\" %(self.r, self.i)\n",
    "    def __str__(self):\n",
    "        return \"[for str] \" + self.__repr__()\n",
    "\n",
    "    \n",
    "c2 = Complex2(1, 2)\n",
    "c2\n",
    "\n",
    "str(c2)\n"
   ]
  },
  {
   "cell_type": "code",
   "execution_count": 437,
   "metadata": {},
   "outputs": [
    {
     "name": "stdout",
     "output_type": "stream",
     "text": [
      "speed :  20\n",
      "overflow speed : 20\n",
      "speed :  0\n",
      "overflow speed : 0\n"
     ]
    }
   ],
   "source": [
    "class Car(): #인자 Object 클래스 생성안하면 입력도안됨\n",
    "    def __init__(self):\n",
    "        self.max_speed = 30\n",
    "        self.speed = 0\n",
    "      \n",
    "    def speed_up(self):\n",
    "        self.speed += 20\n",
    "        if(self.speed > self.max_speed):\n",
    "            self.speed -= 20\n",
    "            print(\"overflow speed : %d\" %self.speed)\n",
    "        else:\n",
    "            print(\"speed :  %d\" % self.speed)\n",
    "           \n",
    "        \n",
    "    def speed_down(self):\n",
    "        self.speed -= 20\n",
    "        if(self.speed < 0):\n",
    "            self.speed += 20\n",
    "            print(\"overflow speed : %d\" %self.speed)\n",
    "        else:\n",
    "            print(\"speed :  %d\" % self.speed)\n",
    "\n",
    "k = Car()\n",
    "\n",
    "k.speed_up()\n",
    "k.speed_up()\n",
    "k.speed_down()\n",
    "k.speed_down()\n",
    "\n",
    "'''\n",
    "    def overflow(self):\n",
    "        if (self.speed < 0) | (self.speed > self.max_speed):\n",
    "            print(\"overflow\")\n",
    "'''\n",
    "\n",
    "# 클래스 안에 주석 있으면 안되나..?\n",
    "\n"
   ]
  },
  {
   "cell_type": "code",
   "execution_count": 446,
   "metadata": {},
   "outputs": [
    {
     "data": {
      "text/plain": [
       "[0, 2, 4, 6]"
      ]
     },
     "execution_count": 446,
     "metadata": {},
     "output_type": "execute_result"
    }
   ],
   "source": [
    "import numpy as np\n",
    "ar = np.array([0, 1, 2, 3])\n",
    "\n",
    "data = [1, 2, 3, 4]\n",
    "\n",
    "answer = []\n",
    "\n",
    "for i in ar:\n",
    "    answer.append(2*i)\n",
    "answer\n"
   ]
  },
  {
   "cell_type": "code",
   "execution_count": 475,
   "metadata": {},
   "outputs": [
    {
     "name": "stdout",
     "output_type": "stream",
     "text": [
      "[[1. 1.]\n",
      " [1. 1.]\n",
      " [1. 1.]]\n",
      "[[0. 0.]\n",
      " [0. 0.]\n",
      " [0. 0.]]\n",
      "[[1. 1. 0. 0.]\n",
      " [1. 1. 0. 0.]\n",
      " [1. 1. 0. 0.]]\n",
      "[[1. 1.]\n",
      " [1. 1.]\n",
      " [1. 1.]\n",
      " [0. 0.]\n",
      " [0. 0.]\n",
      " [0. 0.]]\n"
     ]
    }
   ],
   "source": [
    "import numpy as np\n",
    "\n",
    "a = np.array([10, 20, 30, 40,\n",
    "             50, 60, 70, 80])\n",
    "b = np.array([[10, 20, 30, 40],\n",
    "             [50, 60, 70, 80]])\n",
    "\n",
    "len(a)\n",
    "#len(a)\n",
    "\n",
    "len(b[0])\n",
    "\n",
    "\n",
    "b[0, 0]\n",
    "\n",
    "b = np.ones((2, 3))\n",
    "b.T\n",
    "\n",
    "print(b.T);\n",
    "c = np.zeros((3, 2))\n",
    "print(c);\n",
    "\n",
    "d = np.hstack((b.T, c)) #horizen인가본데 병합\n",
    "c = np.vstack((b.T, c))\n",
    "\n",
    "print(d)\n",
    "print(c)\n"
   ]
  },
  {
   "cell_type": "code",
   "execution_count": 515,
   "metadata": {},
   "outputs": [
    {
     "name": "stdout",
     "output_type": "stream",
     "text": [
      "True\n",
      "[2 2 3 4 5]\n",
      "3.2\n",
      "3.0\n"
     ]
    },
    {
     "data": {
      "text/plain": [
       "array([[ 3,  4,  5,  7],\n",
       "       [ 1,  9, 11, 12],\n",
       "       [ 1,  2, 14, 15]])"
      ]
     },
     "execution_count": 515,
     "metadata": {},
     "output_type": "execute_result"
    }
   ],
   "source": [
    "a = np.arange(3)\n",
    "a\n",
    "\n",
    "a = np.zeros((2, 3))\n",
    "a\n",
    "\n",
    "q = np.arange(3)\n",
    "w = np.arange(3)\n",
    "print(np.all(q==w))\n",
    "\n",
    "#크기다르면 이상한거뜸\n",
    "#비교\n",
    "\n",
    "x = np.arange(5)\n",
    "y = np.ones_like(x)\n",
    "\n",
    "z = x+y\n",
    "\n",
    "z.argmin() #최소값위치 index\n",
    "z[0]=2\n",
    "# 1/0\n",
    "print(z)\n",
    "print(z.mean())\n",
    "print(np.median(z))\n",
    "\n",
    "\n",
    "a = np.array([[ 4,  3,  5,  7],\n",
    "           [ 1, 12, 11,  9],\n",
    "           [ 2, 15,  1, 14]])\n",
    "\n",
    "np.sort(a, axis=1) #1번째\n",
    "\n"
   ]
  }
 ],
 "metadata": {
  "kernelspec": {
   "display_name": "Python 3",
   "language": "python",
   "name": "python3"
  },
  "language_info": {
   "codemirror_mode": {
    "name": "ipython",
    "version": 3
   },
   "file_extension": ".py",
   "mimetype": "text/x-python",
   "name": "python",
   "nbconvert_exporter": "python",
   "pygments_lexer": "ipython3",
   "version": "3.6.5"
  }
 },
 "nbformat": 4,
 "nbformat_minor": 2
}
